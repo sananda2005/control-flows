{
  "nbformat": 4,
  "nbformat_minor": 0,
  "metadata": {
    "colab": {
      "provenance": []
    },
    "kernelspec": {
      "name": "python3",
      "display_name": "Python 3"
    },
    "language_info": {
      "name": "python"
    }
  },
  "cells": [
    {
      "cell_type": "markdown",
      "source": [
        "1.Write a python program to check if a given number is positive or negative."
      ],
      "metadata": {
        "id": "NFB4OcfuhgD0"
      }
    },
    {
      "cell_type": "code",
      "execution_count": null,
      "metadata": {
        "colab": {
          "base_uri": "https://localhost:8080/"
        },
        "id": "i-p_wuQthMzs",
        "outputId": "436a7a6d-2a90-4464-880a-ea63439a50ad"
      },
      "outputs": [
        {
          "output_type": "stream",
          "name": "stdout",
          "text": [
            "Enter your number:0\n",
            "The given number is positive\n"
          ]
        }
      ],
      "source": [
        "num=int(input(\"Enter your number:\"))\n",
        "if num<0:\n",
        "  print(\"The given number is negative\")\n",
        "else:\n",
        "  print(\"The given number is positive\")"
      ]
    },
    {
      "cell_type": "markdown",
      "source": [
        "2.Create a program to that determines if a person is eligible to vote based on their age."
      ],
      "metadata": {
        "id": "oL6VCer-iUqx"
      }
    },
    {
      "cell_type": "code",
      "source": [
        "num=int(input('Enter the age of a the person:'))\n",
        "if num>=18:\n",
        "    print(\"The person can give vote\")\n",
        "else:\n",
        "    print(\"The person is not eligible to give vote\")\n"
      ],
      "metadata": {
        "colab": {
          "base_uri": "https://localhost:8080/"
        },
        "id": "NR7D0PqViitd",
        "outputId": "0b9638ea-4a94-41bc-c92e-34416c053c4f"
      },
      "execution_count": null,
      "outputs": [
        {
          "output_type": "stream",
          "name": "stdout",
          "text": [
            "Enter the age of a the person:20\n",
            "The person can give vote\n"
          ]
        }
      ]
    },
    {
      "cell_type": "markdown",
      "source": [
        "3.Develop a program to find the maximum of two numbers using if-else statements."
      ],
      "metadata": {
        "id": "7WVI71tMmBla"
      }
    },
    {
      "cell_type": "code",
      "source": [
        "num1=int(input('enter 1st num:'))\n",
        "num2=int(input('enter 2nd num:'))\n",
        "if num1 > num2:\n",
        "  print(f'{num1} is greater than {num2}')\n",
        "else:\n",
        "  print(f'{num2} is greater than {num1}')"
      ],
      "metadata": {
        "colab": {
          "base_uri": "https://localhost:8080/"
        },
        "id": "6utIhmGGmSEg",
        "outputId": "875749d7-0f53-4e63-a855-fc7b617ef14a"
      },
      "execution_count": null,
      "outputs": [
        {
          "output_type": "stream",
          "name": "stdout",
          "text": [
            "enter 1st num:2\n",
            "enter 2nd num:5\n",
            "5 is greater than 2\n"
          ]
        }
      ]
    },
    {
      "cell_type": "markdown",
      "source": [
        "4.Write a python script to classify if a given year is leap year not."
      ],
      "metadata": {
        "id": "7n_5u2gSn9rf"
      }
    },
    {
      "cell_type": "code",
      "source": [
        "year=int(input('enter the year:'))\n",
        "if year%4 == 0:\n",
        "  print(f\"{year} is a leap year\")\n",
        "else:\n",
        "  print(f\"{year} is a not a leap year\")"
      ],
      "metadata": {
        "colab": {
          "base_uri": "https://localhost:8080/"
        },
        "id": "2X1leX82oLrr",
        "outputId": "fe7f553a-8c99-47ef-d1ab-921c3ef2768e"
      },
      "execution_count": null,
      "outputs": [
        {
          "output_type": "stream",
          "name": "stdout",
          "text": [
            "enter the year:2023\n",
            "2023 is a not a leap year\n"
          ]
        }
      ]
    },
    {
      "cell_type": "markdown",
      "source": [
        "5.Create a program to check  a character wheather it is a vowel or consonant."
      ],
      "metadata": {
        "id": "38asnT-boqVM"
      }
    },
    {
      "cell_type": "code",
      "source": [
        "char=input()\n",
        "fchar=char.lower()\n",
        "if fchar in \"aeiou\":\n",
        "  print(\"The character is vowel\")\n",
        "else:\n",
        "  print(\"The charcter is consonent\")"
      ],
      "metadata": {
        "colab": {
          "base_uri": "https://localhost:8080/"
        },
        "id": "B_A2zNZj1-dS",
        "outputId": "70ec9ca3-ed8a-4e65-9a83-b4a224799985"
      },
      "execution_count": null,
      "outputs": [
        {
          "output_type": "stream",
          "name": "stdout",
          "text": [
            "G\n",
            "The charcter is consonent\n"
          ]
        }
      ]
    },
    {
      "cell_type": "markdown",
      "source": [
        "6.Implement a program to determine wheather a given number is even or odd."
      ],
      "metadata": {
        "id": "Y7PzlyWQ8D_M"
      }
    },
    {
      "cell_type": "code",
      "source": [
        "num=int(input())\n",
        "if num%2 ==0:\n",
        "  print('the number is even')\n",
        "else:\n",
        "  print('the number is odd')"
      ],
      "metadata": {
        "colab": {
          "base_uri": "https://localhost:8080/"
        },
        "id": "QdZ2_Cqc8Rk_",
        "outputId": "18b4a3f5-abad-4bff-a4a8-c90a91bf691a"
      },
      "execution_count": null,
      "outputs": [
        {
          "output_type": "stream",
          "name": "stdout",
          "text": [
            "5\n",
            "the number is odd\n"
          ]
        }
      ]
    },
    {
      "cell_type": "markdown",
      "source": [
        "7.Write a python function to calculate the absolute value of a number without using the abs() function."
      ],
      "metadata": {
        "id": "j34P6Wq_8pMZ"
      }
    },
    {
      "cell_type": "code",
      "source": [
        "def absolute(num):\n",
        "  if num<0:\n",
        "    return -num\n",
        "  else:\n",
        "    return num\n",
        "print(absolute(-7.8))"
      ],
      "metadata": {
        "colab": {
          "base_uri": "https://localhost:8080/"
        },
        "id": "9C51EdT89JeU",
        "outputId": "3d3f1239-a6bc-4081-912b-7b59c5d85ff0"
      },
      "execution_count": null,
      "outputs": [
        {
          "output_type": "stream",
          "name": "stdout",
          "text": [
            "7.8\n"
          ]
        }
      ]
    },
    {
      "cell_type": "markdown",
      "source": [
        "8.Develop a program that determines the largest of three given numbers using if-else statements."
      ],
      "metadata": {
        "id": "s1RHc7acUls_"
      }
    },
    {
      "cell_type": "code",
      "source": [
        "a=int(input())\n",
        "b=int(input())\n",
        "c=int(input())\n",
        "if a>b and a>c:\n",
        "    print(f'{a} is the largest number')\n",
        "elif b>a and b>c:\n",
        "    print(f'{b} is the largest number')\n",
        "else:\n",
        "    print(f'{c} is the largest number')"
      ],
      "metadata": {
        "colab": {
          "base_uri": "https://localhost:8080/"
        },
        "id": "_-joEQY-tQH1",
        "outputId": "789a5d9f-6dda-4743-f307-ae028a12df9a"
      },
      "execution_count": null,
      "outputs": [
        {
          "output_type": "stream",
          "name": "stdout",
          "text": [
            "2\n",
            "5\n",
            "1\n",
            "5 is the largest number\n"
          ]
        }
      ]
    },
    {
      "cell_type": "markdown",
      "source": [
        "9.Create a program that checks if a given string is a palindrome or not."
      ],
      "metadata": {
        "id": "_IhrIqEboJaN"
      }
    },
    {
      "cell_type": "code",
      "source": [
        "my_string=str(input())\n",
        "if my_string == my_string[::-1]:\n",
        "  print(\"This is a palindrome\")\n",
        "else:\n",
        "  print(\"This is not a palindrome\")"
      ],
      "metadata": {
        "colab": {
          "base_uri": "https://localhost:8080/"
        },
        "id": "vR1Rr5PpoXjX",
        "outputId": "0ad6a9d7-afb1-49a4-fc91-cc70acb3983d"
      },
      "execution_count": null,
      "outputs": [
        {
          "output_type": "stream",
          "name": "stdout",
          "text": [
            "hello\n",
            "This is not a palindrome\n"
          ]
        }
      ]
    },
    {
      "cell_type": "code",
      "source": [
        "\n",
        "def is_palindrome(my_string):\n",
        "  while my_string == my_string[::-1]:\n",
        "    return print(\"This is a palindrome\")\n",
        "  return print(\"This is not a palindrome\")\n",
        "\n",
        "my_string=str(input())\n",
        "result=is_palindrome(my_string)\n",
        "\n"
      ],
      "metadata": {
        "colab": {
          "base_uri": "https://localhost:8080/"
        },
        "id": "RVfGAdUR5tdK",
        "outputId": "948adcd7-b31d-404d-ed14-d900d2d6ccd4"
      },
      "execution_count": null,
      "outputs": [
        {
          "output_type": "stream",
          "name": "stdout",
          "text": [
            "madam\n",
            "This is a palindrome\n"
          ]
        }
      ]
    },
    {
      "cell_type": "markdown",
      "source": [
        "10.Write a python program to calculate grade based on students score."
      ],
      "metadata": {
        "id": "EsQB4ENhpEq1"
      }
    },
    {
      "cell_type": "code",
      "source": [
        "student_score=float(input())\n",
        "if student_score >=90 and student_score<=100:\n",
        "  print(\"The student got O+\")\n",
        "elif student_score>=80 and student_score<=89:\n",
        "  print(\"The student got A+\")\n",
        "elif student_score>=70 and student_score<=79:\n",
        "  print(\"The student got B+\")\n",
        "elif student_score>=60 and student_score<=69:\n",
        "  print(\"The student got C+\")\n",
        "elif student_score>=50 and student_score<=59:\n",
        "  print(\"The student got D+\")\n",
        "else:\n",
        "  print(\"The student failed\")\n"
      ],
      "metadata": {
        "colab": {
          "base_uri": "https://localhost:8080/"
        },
        "id": "KSYlZmkRpQmQ",
        "outputId": "2b59538c-8bec-4bf4-c804-f1d200a34acd"
      },
      "execution_count": null,
      "outputs": [
        {
          "output_type": "stream",
          "name": "stdout",
          "text": [
            "49\n",
            "The student failed\n"
          ]
        }
      ]
    },
    {
      "cell_type": "markdown",
      "source": [
        "11.Write a program to find the largest among three numbers using nested if-else statements."
      ],
      "metadata": {
        "id": "Ib4je9aqgvov"
      }
    },
    {
      "cell_type": "code",
      "source": [
        "num1=int(input())\n",
        "num2=int(input())\n",
        "num3=int(input())\n",
        "if num1>=num2:\n",
        "  if num1>=num3:\n",
        "    print(f\"{num1} is largest\")\n",
        "  else:\n",
        "    print(f\"{num3} is largest\")\n",
        "else:\n",
        "  if num2>=num3:\n",
        "    print(f\"{num2} is largest\")\n",
        "  else:\n",
        "    print(f\"{num3} is largest\")"
      ],
      "metadata": {
        "colab": {
          "base_uri": "https://localhost:8080/"
        },
        "id": "RpOd-ScWhBT5",
        "outputId": "704d998a-7f00-49e1-d5c4-4ef433943919"
      },
      "execution_count": null,
      "outputs": [
        {
          "output_type": "stream",
          "name": "stdout",
          "text": [
            "56\n",
            "45\n",
            "110\n",
            "110 is largest\n"
          ]
        }
      ]
    },
    {
      "cell_type": "markdown",
      "source": [
        "12.Implement a program to determine if a triangle is equilateral,isosceles or scalene."
      ],
      "metadata": {
        "id": "XdZy0CWronvG"
      }
    },
    {
      "cell_type": "code",
      "source": [
        "side1=float(input(\"Enter the value of side1:\"))\n",
        "side2=float(input(\"Enter the value of side2:\"))\n",
        "side3=float(input(\"Enter the value of side3:\"))\n",
        "\n",
        "if (side1+side2>side3) and (side2+side3>side1) and (side3+side1>side2):\n",
        "  if side1 == side2 ==side3:\n",
        "    triangle_type=\"Equilateral\"\n",
        "  elif side1 == side2 or side2 == side3 or side3 == side1:\n",
        "    triangle_type=\"Isosceles\"\n",
        "  else:\n",
        "    triangle_type=\"Scalene\"\n",
        "  print(f\"The triangle is {triangle_type} type.\")\n",
        "else:\n",
        "  print(\"This is not a triangle.\")\n",
        "\n"
      ],
      "metadata": {
        "colab": {
          "base_uri": "https://localhost:8080/"
        },
        "id": "Kwzu7tCdo39q",
        "outputId": "a500fff5-0a53-4d41-acb0-1ef52dff6cf2"
      },
      "execution_count": null,
      "outputs": [
        {
          "output_type": "stream",
          "name": "stdout",
          "text": [
            "Enter the value of side1:4\n",
            "Enter the value of side2:4\n",
            "Enter the value of side3:4\n",
            "The triangle is Equilateral type.\n"
          ]
        }
      ]
    },
    {
      "cell_type": "markdown",
      "source": [
        "13.Develop a program that checks if a year is leap year and also if it is a century year."
      ],
      "metadata": {
        "id": "-gu6PjLBss55"
      }
    },
    {
      "cell_type": "code",
      "source": [
        "year=int(input(\"Enter the year:\"))\n",
        "is_leapyear=(year % 4 == 0 and year % 100 != 0) or (year % 400 == 0)\n",
        "is_centuryyear=(year % 100 == 0)\n",
        "\n",
        "if is_leapyear and is_centuryyear:\n",
        "  print(\"The given year is a leap year as well as century year.\")\n",
        "elif is_leapyear:\n",
        "  print(\"The given year is a leap year but not a century year.\")\n",
        "elif is_centuryyear:\n",
        "  print(\"The given year is a century year but not a leap year.\")\n",
        "else:\n",
        "  print(\"The given year is neither a leap year not a century year.\")"
      ],
      "metadata": {
        "colab": {
          "base_uri": "https://localhost:8080/"
        },
        "id": "s3BZyZ1PtoE-",
        "outputId": "1ecc3ac2-1a64-4d04-ca27-591ecb98e9e4"
      },
      "execution_count": null,
      "outputs": [
        {
          "output_type": "stream",
          "name": "stdout",
          "text": [
            "Enter the year:2024\n",
            "The given year is a leap year but not a century year.\n"
          ]
        }
      ]
    },
    {
      "cell_type": "markdown",
      "source": [
        "14.Write a pyton script to determine if a number is positive ,negative or zero."
      ],
      "metadata": {
        "id": "g8ZW_4vcTpdV"
      }
    },
    {
      "cell_type": "code",
      "source": [
        "num=int(input())\n",
        "if num>0:\n",
        "  print(\"It is a positive number.\")\n",
        "elif num<0:\n",
        "  print(\"It is a negative number.\")\n",
        "else:\n",
        "  print(\"It is a zero.\")"
      ],
      "metadata": {
        "colab": {
          "base_uri": "https://localhost:8080/"
        },
        "id": "rV_ce02DUKOO",
        "outputId": "3ae8cf7d-66da-4507-ad58-07d0d137a318"
      },
      "execution_count": null,
      "outputs": [
        {
          "output_type": "stream",
          "name": "stdout",
          "text": [
            "-7\n",
            "It is a negative number.\n"
          ]
        }
      ]
    },
    {
      "cell_type": "markdown",
      "source": [
        "15.Create a program to check if a person is teenager(between 13 and 19 years old)."
      ],
      "metadata": {
        "id": "-TY-EOBWUrmh"
      }
    },
    {
      "cell_type": "code",
      "source": [
        "age=int(input(\"Enter the age:\"))\n",
        "if 13 <= age <= 19:\n",
        "  print(\"The person is a teenager.\")\n",
        "else:\n",
        "  print(\"The person is not a teenager.\")"
      ],
      "metadata": {
        "colab": {
          "base_uri": "https://localhost:8080/"
        },
        "id": "Fx7KZszqU8Jz",
        "outputId": "3ea75820-e81f-4ec0-eeab-ee1be5760c83"
      },
      "execution_count": null,
      "outputs": [
        {
          "output_type": "stream",
          "name": "stdout",
          "text": [
            "Enter the age:54\n",
            "The person is not a teenager.\n"
          ]
        }
      ]
    },
    {
      "cell_type": "markdown",
      "source": [
        "16.Develop a program that determines the type of angle based on its measure(acute,obtuse or right)."
      ],
      "metadata": {
        "id": "FukrgpIeXguX"
      }
    },
    {
      "cell_type": "code",
      "source": [
        "angle=float(input(\"Enter the angle:\"))\n",
        "if angle < 90:\n",
        "  print(f\"The angle{angle}degree is a an acute angle.\")\n",
        "elif angle ==90:\n",
        "  print(f\"The angle \\n {angle}degree is a a right angle.\")\n",
        "else:\n",
        "  print(f\"The angle{angle}degree is a an obtuse angle.\")"
      ],
      "metadata": {
        "colab": {
          "base_uri": "https://localhost:8080/"
        },
        "id": "XaihbAgkXxX-",
        "outputId": "991458b5-7919-4163-ebaf-45431567b195"
      },
      "execution_count": null,
      "outputs": [
        {
          "output_type": "stream",
          "name": "stdout",
          "text": [
            "Enter the angle:90\n",
            "The angle \n",
            " 90.0degree is a a right angle.\n"
          ]
        }
      ]
    },
    {
      "cell_type": "markdown",
      "source": [
        "17.Write a python program to calculate the roots of a quadratic equation."
      ],
      "metadata": {
        "id": "9HfhP7hJZDEY"
      }
    },
    {
      "cell_type": "code",
      "source": [
        "import math\n",
        "\n",
        "a=float(input(\"Enter the value of coeffiecient 'a': \"))\n",
        "b=float(input(\"Enter the value of coeffiecient 'b': \"))\n",
        "c=float(input(\"Enter the value of coeffiecient 'c': \"))\n",
        "\n",
        "discriminant= b**2-4*a*c\n",
        "\n",
        "if discriminant>0:\n",
        "  root1=(-b+math.sqrt(discriminant))/(2*a)\n",
        "  root2=(-b-math.sqrt(discriminant))/(2*a)\n",
        "  print(f\"The roots re real and distinct:{root1} and {root2}\")\n",
        "elif discriminant == 0:\n",
        "  root1=-b/(2*a)\n",
        "  print(f\"There is one real root(repeated):{root1}\")\n",
        "else:\n",
        "  real_part=-b/(2*a)\n",
        "  imaginary_part=math.sqrt(abs(discriminant))/(2*a)\n",
        "  print(f\"The roots are imaginary:{real_part}+{imaginary_part}i and {real_part}+{imaginary_part}i\")"
      ],
      "metadata": {
        "colab": {
          "base_uri": "https://localhost:8080/"
        },
        "id": "qP5XMI-tZPFb",
        "outputId": "1019d35b-f6f6-4b82-e903-0d68baf80e33"
      },
      "execution_count": null,
      "outputs": [
        {
          "output_type": "stream",
          "name": "stdout",
          "text": [
            "Enter the value of coeffiecient 'a': 34\n",
            "Enter the value of coeffiecient 'b': 23\n",
            "Enter the value of coeffiecient 'c': 12\n",
            "The roots are imaginary:-0.3382352941176471+0.4884035854534004i and -0.3382352941176471+0.4884035854534004i\n"
          ]
        }
      ]
    },
    {
      "cell_type": "markdown",
      "source": [
        "18.Implement a program to determine the day of the week based on a user provided number."
      ],
      "metadata": {
        "id": "GpMkqQb8dfAP"
      }
    },
    {
      "cell_type": "code",
      "source": [
        "day_of_week=[\"Monday\",\"Tuesday\",\"Wednesday\",\"Thursday\",\"Friday\",\"Saturday\",\"Sunday\"]\n",
        "user_input=int(input(\"Enter the number for the day you want:\"))\n",
        "if 1<=user_input<=7:\n",
        "  week_day=day_of_week[user_input-1]\n",
        "  print(week_day)\n",
        "else:\n",
        "  print(\"Invalid input\")"
      ],
      "metadata": {
        "colab": {
          "base_uri": "https://localhost:8080/"
        },
        "id": "L6KFoHdI6Bf9",
        "outputId": "d0b560c8-07b3-4f4e-9e31-e2313e9953d1"
      },
      "execution_count": null,
      "outputs": [
        {
          "output_type": "stream",
          "name": "stdout",
          "text": [
            "Enter the number for the day you want:3\n",
            "Wednesday\n"
          ]
        }
      ]
    },
    {
      "cell_type": "markdown",
      "source": [
        "19.Create a program that determines if a year is a leap year and also it is evenly divisible by 400."
      ],
      "metadata": {
        "id": "AGysVYzd_NUG"
      }
    },
    {
      "cell_type": "code",
      "source": [
        "year=int(input(\"Enter the year:\"))\n",
        "if (year % 4 == 0 and year % 100 != 0) and (year % 400 == 0):\n",
        "  print(\"This year is a leap year and is also evenly divisible by 400\")\n",
        "elif (year % 4 == 0 and year % 100 != 0):\n",
        "  print(\"This  is a leap year but not evenly divisible by 400\")\n",
        "elif (year % 400 == 0):\n",
        "  print(\"This  is not a leap year but it is evenly divisible by 400\")\n",
        "else:\n",
        "  print(\"This is neither a leap year not evenly distributed by 400\")"
      ],
      "metadata": {
        "colab": {
          "base_uri": "https://localhost:8080/"
        },
        "id": "d4BJieM8AIht",
        "outputId": "4877482b-e3f0-4817-b279-ca706157efe3"
      },
      "execution_count": null,
      "outputs": [
        {
          "output_type": "stream",
          "name": "stdout",
          "text": [
            "Enter the year:2000\n",
            "This  is not a leap year but it is evenly divisible by 400\n"
          ]
        }
      ]
    },
    {
      "cell_type": "markdown",
      "source": [
        "20.Develop a program that checks if a given number is prime or not using nested if-else statements."
      ],
      "metadata": {
        "id": "IVF_P6g1eNdq"
      }
    },
    {
      "cell_type": "code",
      "source": [
        "num=int(input(\"Enter the number:\"))\n",
        "if num<2:\n",
        "  print(\"The number is not a prime number\")\n",
        "if num % 2 == 0:\n",
        "  print(\"The number is not a prime number\")\n",
        "else:\n",
        "  print(\"It is a prime number\")"
      ],
      "metadata": {
        "colab": {
          "base_uri": "https://localhost:8080/"
        },
        "id": "MHLECUWOeeP7",
        "outputId": "5c1b6902-c2be-48ea-cac6-7f571fe7aab2"
      },
      "execution_count": null,
      "outputs": [
        {
          "output_type": "stream",
          "name": "stdout",
          "text": [
            "Enter the number:3\n",
            "It is a prime number\n"
          ]
        }
      ]
    },
    {
      "cell_type": "markdown",
      "source": [
        "21.Write a program to assign grades based on different ranges of scores using elif statements."
      ],
      "metadata": {
        "id": "VSo5JEjG2pgT"
      }
    },
    {
      "cell_type": "code",
      "source": [
        "student_score=float(input())\n",
        "if student_score >=90 and student_score<=100:\n",
        "  print(\"The student got O+\")\n",
        "elif student_score>=80 and student_score<=89:\n",
        "  print(\"The student got A+\")\n",
        "elif student_score>=70 and student_score<=79:\n",
        "  print(\"The student got B+\")\n",
        "elif student_score>=60 and student_score<=69:\n",
        "  print(\"The student got C+\")\n",
        "elif student_score>=50 and student_score<=59:\n",
        "  print(\"The student got D+\")\n",
        "else:\n",
        "  print(\"The student failed\")"
      ],
      "metadata": {
        "colab": {
          "base_uri": "https://localhost:8080/"
        },
        "id": "C3V72IFc29_q",
        "outputId": "4d3e5d6c-1e27-4dc1-d088-bee0096d3a0a"
      },
      "execution_count": null,
      "outputs": [
        {
          "output_type": "stream",
          "name": "stdout",
          "text": [
            "75\n",
            "The student got B+\n"
          ]
        }
      ]
    },
    {
      "cell_type": "markdown",
      "source": [
        "22.Implement a program to determine the type of a triangle based on its angle."
      ],
      "metadata": {
        "id": "UI1WMTEG3N4D"
      }
    },
    {
      "cell_type": "code",
      "source": [
        "angle1=int(input(\"Enter the 1st angle:\"))\n",
        "angle2=int(input(\"Enter the 2nd angle:\"))\n",
        "angle3=int(input(\"Enter the 3rd angle:\"))\n",
        "\n",
        "if (angle1+angle2+angle3) == 180 :\n",
        "  print(\"It is a valid Triangle\")\n",
        "  if angle1 == angle2 == angle3 == 60:\n",
        "    print(\"It is an equilateral triangle\")\n",
        "  elif angle1 == angle2 or angle2 == angle3 or angle3 == angle1:\n",
        "    print(\"It is an isoscales triangle\")\n",
        "  else:\n",
        "    print(\"It is a scalene triangle\")\n",
        "else:\n",
        "  print(\"It is not a valid triangle\")"
      ],
      "metadata": {
        "colab": {
          "base_uri": "https://localhost:8080/"
        },
        "id": "T_SjkJ-2GwqB",
        "outputId": "b6b516f3-0987-4529-e561-e76ae71b6500"
      },
      "execution_count": null,
      "outputs": [
        {
          "output_type": "stream",
          "name": "stdout",
          "text": [
            "Enter the 1st angle:60\n",
            "Enter the 2nd angle:60\n",
            "Enter the 3rd angle:60\n",
            "It is a valid Triangle\n",
            "It is an equilateral triangle\n"
          ]
        }
      ]
    },
    {
      "cell_type": "markdown",
      "source": [
        "23.Develop a program to categorize a given person's BMI into underweight,normal,overweight,or obese using elif statements."
      ],
      "metadata": {
        "id": "d8tkY9VnRzvF"
      }
    },
    {
      "cell_type": "code",
      "source": [
        "height=float(input(\"Enter the persons height in meter:\"))\n",
        "weight=float(input(\"Enter the persons weight kilogram:\"))\n",
        "bmi=weight/(height**2)\n",
        "print(bmi)\n",
        "\n",
        "if bmi<18.5:\n",
        "  category = \"underweight\"\n",
        "elif 18.5<= bmi <25:\n",
        "  category = \"normal\"\n",
        "elif 25<= bmi< 30:\n",
        "  category = \"overweight\"\n",
        "else:\n",
        "  category = \"Obese\"\n",
        "print(f\"your bmi is {bmi:.2f}, and you fall in {category} category.\")"
      ],
      "metadata": {
        "colab": {
          "base_uri": "https://localhost:8080/"
        },
        "id": "STCEI--1mCog",
        "outputId": "c114d29f-a0de-4357-fb1c-20ce9aec7ef4"
      },
      "execution_count": null,
      "outputs": [
        {
          "output_type": "stream",
          "name": "stdout",
          "text": [
            "Enter the persons height in meter:1.524\n",
            "Enter the persons weight kilogram:58\n",
            "24.972272166766555\n",
            "your bmi is 24.97, and you fall in normal category.\n"
          ]
        }
      ]
    },
    {
      "cell_type": "code",
      "source": [
        "weight = float(input(\"Enter your weight in kilograms: \"))\n",
        "height = float(input(\"Enter your height in meters: \"))\n",
        "\n",
        "# Calculate BMI\n",
        "bmi = weight / (height ** 2)\n",
        "\n",
        "# Categorize BMI using corrected conditions\n",
        "if bmi < 18.5:\n",
        "    category = \"underweight\"\n",
        "elif 18.5 <= bmi < 25:\n",
        "    category = \"normal\"\n",
        "elif 25 <= bmi < 30:\n",
        "    category = \"overweight\"\n",
        "else:\n",
        "    category = \"obese\"\n",
        "\n",
        "# Print the BMI category\n",
        "print(f\"Your BMI is {bmi:.2f}, and you fall in the {category} category.\")"
      ],
      "metadata": {
        "colab": {
          "base_uri": "https://localhost:8080/"
        },
        "id": "udyYOej_SUx4",
        "outputId": "7ae5b98c-bdb1-4fca-cd65-af4f722a23c1"
      },
      "execution_count": null,
      "outputs": [
        {
          "output_type": "stream",
          "name": "stdout",
          "text": [
            "Enter your weight in kilograms: 58\n",
            "Enter your height in meters: 1.524\n",
            "Your BMI is 24.97, and you fall in the normal category.\n"
          ]
        }
      ]
    },
    {
      "cell_type": "markdown",
      "source": [
        "24.Create a program that determines wheather a given number is positive negative or zero using elif statements."
      ],
      "metadata": {
        "id": "BorxdCvNsD2g"
      }
    },
    {
      "cell_type": "code",
      "source": [
        "num=int(input(\"Enetr a number:\"))\n",
        "if num>0:\n",
        "  print(\"It is a positive number.\")\n",
        "elif num<0:\n",
        "  print(\"It is a negative number.\")\n",
        "else:\n",
        "  print(\"It is a zero.\")"
      ],
      "metadata": {
        "colab": {
          "base_uri": "https://localhost:8080/"
        },
        "id": "DvXkZ9Q1sRPK",
        "outputId": "8c812ee2-9649-40c7-e60d-025216fe27be"
      },
      "execution_count": null,
      "outputs": [
        {
          "output_type": "stream",
          "name": "stdout",
          "text": [
            "Enetr a number:7\n",
            "It is a positive number.\n"
          ]
        }
      ]
    },
    {
      "cell_type": "markdown",
      "source": [
        "25.Write a python script to determine the type of a character(uppercase,lowercase or special) using elif statements."
      ],
      "metadata": {
        "id": "zuQd1AtxsnCT"
      }
    },
    {
      "cell_type": "code",
      "source": [
        "char=str(input(\"Enter a character:\"))\n",
        "if char.isupper():\n",
        "  print(\"It is a upper case character\")\n",
        "elif char.islower():\n",
        "  print(\"It is a lower case character\")\n",
        "else:\n",
        "  print(\"It is a special case\")"
      ],
      "metadata": {
        "id": "GnGp71EYs6-m",
        "colab": {
          "base_uri": "https://localhost:8080/"
        },
        "outputId": "a4045a9b-9fc2-4b08-ec80-90a78c3c41b2"
      },
      "execution_count": null,
      "outputs": [
        {
          "output_type": "stream",
          "name": "stdout",
          "text": [
            "Enter a character:s\n",
            "It is a lower case character\n"
          ]
        }
      ]
    },
    {
      "cell_type": "markdown",
      "source": [
        "26.Implement a program to calculate the discounted price based on different purchase amounts using elif statements."
      ],
      "metadata": {
        "id": "lX3xgPNgVxyB"
      }
    },
    {
      "cell_type": "code",
      "source": [
        "amount=float(input(\"Enter the purchasing amount:\"))\n",
        "discounted_10=.10 #10%\n",
        "discounted_20=.20 #20%\n",
        "discounted_30=.30 #30%\n",
        "\n",
        "if amount<100:\n",
        "  print(\"your purchasing amount is:\",amount)\n",
        "elif 100 <amount < 500:\n",
        "  print(\"your purchasing amount is:\",amount*(1-discounted_10))\n",
        "elif 500 < amount <1000:\n",
        "  print(\"your purchasing amount is:\",amount*(1-discounted_20))\n",
        "else:\n",
        "  print(\"your purchasing amount is:\",amount*(1-discounted_30))"
      ],
      "metadata": {
        "id": "hjaLUCHzWNe2",
        "colab": {
          "base_uri": "https://localhost:8080/"
        },
        "outputId": "ce050edb-05d8-4fdd-88a2-3b8c2af696bd"
      },
      "execution_count": null,
      "outputs": [
        {
          "output_type": "stream",
          "name": "stdout",
          "text": [
            "Enter the purchasing amount:1500\n",
            "your purchasing amount is: 1050.0\n"
          ]
        }
      ]
    },
    {
      "cell_type": "markdown",
      "source": [
        "27.Develop a program to calculate the electricity bill based on different consumption slabs using elif statements."
      ],
      "metadata": {
        "id": "sYnLWul7XRTZ"
      }
    },
    {
      "cell_type": "code",
      "source": [
        "units=float((input(\"Enter the units consumed:\")))\n",
        "slab1=100\n",
        "slab1_rate=2.50\n",
        "slab2=200\n",
        "slab2_rate=3.00\n",
        "slab3=300\n",
        "slab3_rate=4.50\n",
        "slab4_rate=6.00\n",
        "\n",
        "total_bill=0\n",
        "if units < slab1:\n",
        "  total_bill=units*slab1_rate\n",
        "elif units < slab2:\n",
        "  total_bill=(slab1*slab1_rate)+(units-slab1)*slab2_rate\n",
        "elif units < slab3:\n",
        "  total_bill=(slab1*slab1_rate)+((slab2-slab1)*slab2_rate)+(units-slab2)*slab3_rate\n",
        "else:\n",
        "  total_bill=(slab1*slab1_rate)+((slab2-slab1)*slab2_rate)+((slab3-slab2)*slab3_rate)+(units-slab3)*slab4_rate\n",
        "\n",
        "print(f\"Your price for {units} units is {total_bill} rupees\")"
      ],
      "metadata": {
        "id": "1ycwODbYXzE6",
        "colab": {
          "base_uri": "https://localhost:8080/"
        },
        "outputId": "b85d1d8c-bbd2-4311-b92d-005cc391e954"
      },
      "execution_count": null,
      "outputs": [
        {
          "output_type": "stream",
          "name": "stdout",
          "text": [
            "Enter the units consumed:300\n",
            "Your price for 300.0 units is 1000.0 rupees\n"
          ]
        }
      ]
    },
    {
      "cell_type": "markdown",
      "source": [
        "28.Create a program to determine the type of quadilateral based on its angle and sides using elif statements."
      ],
      "metadata": {
        "id": "iF9-pQxIXxuR"
      }
    },
    {
      "cell_type": "code",
      "source": [
        "side1=float(input(\"Enter the value of side1:\"))\n",
        "side2=float(input(\"Enter the value of side2:\"))\n",
        "side3=float(input(\"Enter the value of side3:\"))\n",
        "side4=float(input(\"Enter the value of side4:\"))\n",
        "angle1=int(input(\"Enter the 1st angle:\"))\n",
        "angle2=int(input(\"Enter the 2nd angle:\"))\n",
        "angle3=int(input(\"Enter the 3rd angle:\"))\n",
        "angle4=int(input(\"Enter the 4th angle:\"))\n",
        "\n",
        "if angle1 == angle2 == angle3 == angle4 == 90 :\n",
        "  print(\"Its a Rectangle\")\n",
        "elif angle1 == angle2 == angle3 == angle4 != 90:\n",
        "  print(\"Its a Rhombos\")\n",
        "elif side1 == side2 ==side3 == side4 :\n",
        "  print(\"Its a square\")\n",
        "elif side1 == side3 and side2 == side4 and angle1 == angle3 and angle2 == angle4 :\n",
        "  print(\"Its a Parallelogram\")\n",
        "elif side1 == side3 and side2 == side4 and angle1 != angle3 and angle2 != angle4 :\n",
        "  print(\"Its a Kite\")\n",
        "else:\n",
        "  print(\"Its a general Quadrilateral\")"
      ],
      "metadata": {
        "colab": {
          "base_uri": "https://localhost:8080/"
        },
        "id": "KzeX-I1ostOU",
        "outputId": "a34eb43b-1cbd-4543-b6dd-4577e40e5ca3"
      },
      "execution_count": null,
      "outputs": [
        {
          "output_type": "stream",
          "name": "stdout",
          "text": [
            "Enter the value of side1:10\n",
            "Enter the value of side2:20\n",
            "Enter the value of side3:10\n",
            "Enter the value of side4:20\n",
            "Enter the 1st angle:30\n",
            "Enter the 2nd angle:25\n",
            "Enter the 3rd angle:30\n",
            "Enter the 4th angle:25\n",
            "Its a Parallelogram\n"
          ]
        }
      ]
    },
    {
      "cell_type": "markdown",
      "source": [
        "29.Write a python script to determine the season based on a user provided month using elif statements."
      ],
      "metadata": {
        "id": "yLo9NKDgYalK"
      }
    },
    {
      "cell_type": "code",
      "source": [
        "month=int(input(\"Enter the month(1-12):\"))\n",
        "if month in (3, 4, 5):\n",
        "    season = \"spring\"\n",
        "elif month in (6, 7, 8):\n",
        "    season = \"summer\"\n",
        "elif month in (9, 10, 11):\n",
        "    season = \"autumn\"\n",
        "else:\n",
        "    season = \"winter\"\n",
        "print(f\"The {month} no. month falls under {season} season\")\n"
      ],
      "metadata": {
        "id": "mtVwr2taY-du",
        "colab": {
          "base_uri": "https://localhost:8080/"
        },
        "outputId": "297242ed-7142-44c9-c356-37d27ff0db51"
      },
      "execution_count": null,
      "outputs": [
        {
          "output_type": "stream",
          "name": "stdout",
          "text": [
            "Enter the month(1-12):2\n",
            "The 2 no. month falls under winter season\n"
          ]
        }
      ]
    },
    {
      "cell_type": "markdown",
      "source": [
        "30.Implement a program to determine the type of a year(leap or common) and month (30 0r 31 days) using elif statements."
      ],
      "metadata": {
        "id": "MaFHSpC7Zfuc"
      }
    },
    {
      "cell_type": "code",
      "source": [
        "year=int(input(\"Enter the year:\"))\n",
        "month=int(input(\"Enter the month (1-12):\"))\n",
        "\n",
        "is_leap_year=(year % 4 == 0 and year % 100 != 0) or (year % 400 == 0)\n",
        "\n",
        "if month in (1,3,5,7,8,10,12):\n",
        "  days_in_month=31\n",
        "elif month in (4,6,9,11):\n",
        "  days_in_month=30\n",
        "elif month == 2:\n",
        "  days_in_month = 29 if is_leap_year else 28\n",
        "else:\n",
        "  print(\"invalid input for month\")\n",
        "\n",
        "print(f\"{year} year is {'leap'if is_leap_year else 'common'} year\")\n",
        "print(f\"{month} month has {days_in_month} days\")\n"
      ],
      "metadata": {
        "id": "I2TvQ4KcZxGz",
        "colab": {
          "base_uri": "https://localhost:8080/"
        },
        "outputId": "86333618-1175-4b63-ee35-4779593dabab"
      },
      "execution_count": null,
      "outputs": [
        {
          "output_type": "stream",
          "name": "stdout",
          "text": [
            "Enter the year:2024\n",
            "Enter the month (1-12):2\n",
            "2024 year is leap year\n",
            "2 month has 29 days\n"
          ]
        }
      ]
    },
    {
      "cell_type": "markdown",
      "source": [
        "**BASIC LEVEL**\n",
        "\n",
        "---\n",
        "\n",
        "\n",
        "\n"
      ],
      "metadata": {
        "id": "66uXGTxBjS-F"
      }
    },
    {
      "cell_type": "markdown",
      "source": [
        "1.Write a python program that checks if a given number is positive,negative or zero."
      ],
      "metadata": {
        "id": "62tU0x8ujpot"
      }
    },
    {
      "cell_type": "code",
      "source": [
        "num=int(input())\n",
        "if num>0:\n",
        "  print(\"It is a positive number.\")\n",
        "elif num<0:\n",
        "  print(\"It is a negative number.\")\n",
        "else:\n",
        "  print(\"It is a zero.\")"
      ],
      "metadata": {
        "colab": {
          "base_uri": "https://localhost:8080/"
        },
        "id": "BxMfTLnZojxK",
        "outputId": "eb36ca7b-24f0-4077-a7e0-7dfe007f1c5e"
      },
      "execution_count": null,
      "outputs": [
        {
          "output_type": "stream",
          "name": "stdout",
          "text": [
            "0\n",
            "It is a zero.\n"
          ]
        }
      ]
    },
    {
      "cell_type": "markdown",
      "source": [
        "2.Create a program to determine if a person is elgible to vote based on their age."
      ],
      "metadata": {
        "id": "S-P0QEv3oyQ7"
      }
    },
    {
      "cell_type": "code",
      "source": [
        "age=int(input(\"Enter the age:\"))\n",
        "if age < 18:\n",
        "  print(\"The person is not eligible to vote.\")\n",
        "else:\n",
        "  print(\"The person is eligible to vote.\")"
      ],
      "metadata": {
        "colab": {
          "base_uri": "https://localhost:8080/"
        },
        "id": "g298PuZCo8yQ",
        "outputId": "3df49aa9-560f-44ce-a52c-10b7be0e865e"
      },
      "execution_count": null,
      "outputs": [
        {
          "output_type": "stream",
          "name": "stdout",
          "text": [
            "Enter the age:21\n",
            "The person is eligible to vote.\n"
          ]
        }
      ]
    },
    {
      "cell_type": "markdown",
      "source": [
        "3.Write a program to find the maximum of two numbers using conditional statements."
      ],
      "metadata": {
        "id": "3yv38nsPpZBk"
      }
    },
    {
      "cell_type": "code",
      "source": [
        "num1=int(input('enter 1st num:'))\n",
        "num2=int(input('enter 2nd num:'))\n",
        "if num1 > num2:\n",
        "  print(f'{num1} is greater than {num2}')\n",
        "else:\n",
        "  print(f'{num2} is greater than {num1}')"
      ],
      "metadata": {
        "colab": {
          "base_uri": "https://localhost:8080/"
        },
        "id": "7Sn3Kv6RppFT",
        "outputId": "d07716c6-0eac-40eb-fb4b-9275116fd26b"
      },
      "execution_count": null,
      "outputs": [
        {
          "output_type": "stream",
          "name": "stdout",
          "text": [
            "enter 1st num:5\n",
            "enter 2nd num:6\n",
            "6 is greater than 5\n"
          ]
        }
      ]
    },
    {
      "cell_type": "markdown",
      "source": [
        "4.Develop a program that calculates the grade of a student based on their exam score."
      ],
      "metadata": {
        "id": "er_8RgOHqOdb"
      }
    },
    {
      "cell_type": "code",
      "source": [
        "student_score=float(input())\n",
        "if student_score >=90 and student_score<=100:\n",
        "  print(\"The student got O+\")\n",
        "elif student_score>=80 and student_score<=89:\n",
        "  print(\"The student got A+\")\n",
        "elif student_score>=70 and student_score<=79:\n",
        "  print(\"The student got B+\")\n",
        "elif student_score>=60 and student_score<=69:\n",
        "  print(\"The student got C+\")\n",
        "elif student_score>=50 and student_score<=59:\n",
        "  print(\"The student got D+\")\n",
        "else:\n",
        "  print(\"The student failed\")"
      ],
      "metadata": {
        "colab": {
          "base_uri": "https://localhost:8080/"
        },
        "id": "LWDaC_-2qiWl",
        "outputId": "c7dd7798-3cb1-48fd-d6d2-df8a1eecb424"
      },
      "execution_count": null,
      "outputs": [
        {
          "output_type": "stream",
          "name": "stdout",
          "text": [
            "81\n",
            "The student got A+\n"
          ]
        }
      ]
    },
    {
      "cell_type": "markdown",
      "source": [
        "5.Create a program that checks if a year is a leap year or not."
      ],
      "metadata": {
        "id": "RNAbwoluq5Tt"
      }
    },
    {
      "cell_type": "code",
      "source": [
        "year=int(input(\"Enter the year:\"))\n",
        "is_leapyear=(year % 4 == 0 and year % 100 != 0) or (year % 400 == 0)\n",
        "is_centuryyear=(year % 100 == 0)\n",
        "\n",
        "if is_leapyear and is_centuryyear:\n",
        "  print(\"The given year is a leap year as well as century year.\")\n",
        "elif is_leapyear:\n",
        "  print(\"The given year is a leap year but not a century year.\")\n",
        "elif is_centuryyear:\n",
        "  print(\"The given year is a century year but not a leap year.\")\n",
        "else:\n",
        "  print(\"The given year is neither a leap year not a century year.\")"
      ],
      "metadata": {
        "colab": {
          "base_uri": "https://localhost:8080/"
        },
        "id": "UPKrFmj0a5bL",
        "outputId": "a59ad113-30e8-4cd9-b012-f82d84202366"
      },
      "execution_count": null,
      "outputs": [
        {
          "output_type": "stream",
          "name": "stdout",
          "text": [
            "Enter the year:2024\n",
            "The given year is a leap year but not a century year.\n"
          ]
        }
      ]
    },
    {
      "cell_type": "markdown",
      "source": [
        "6.Write a program to classify a triangle based on its sides' length."
      ],
      "metadata": {
        "id": "tmEIGQHDbKvS"
      }
    },
    {
      "cell_type": "code",
      "source": [
        "side1=float(input(\"Enter the value of side1:\"))\n",
        "side2=float(input(\"Enter the value of side2:\"))\n",
        "side3=float(input(\"Enter the value of side3:\"))\n",
        "\n",
        "if (side1+side2>side3) and (side2+side3>side1) and (side3+side1>side2):\n",
        "  if side1 == side2 ==side3:\n",
        "    triangle_type=\"Equilateral\"\n",
        "  elif side1 == side2 or side2 == side3 or side3 == side1:\n",
        "    triangle_type=\"Isosceles\"\n",
        "  else:\n",
        "    triangle_type=\"Scalene\"\n",
        "  print(f\"The triangle is {triangle_type} type.\")\n",
        "else:\n",
        "  print(\"This is not a triangle.\")"
      ],
      "metadata": {
        "colab": {
          "base_uri": "https://localhost:8080/"
        },
        "id": "SJKEGx-Lbat9",
        "outputId": "5f46bed7-f014-4b03-8636-91c8f0845fda"
      },
      "execution_count": null,
      "outputs": [
        {
          "output_type": "stream",
          "name": "stdout",
          "text": [
            "Enter the value of side1:4\n",
            "Enter the value of side2:4\n",
            "Enter the value of side3:4\n",
            "The triangle is Equilateral type.\n"
          ]
        }
      ]
    },
    {
      "cell_type": "markdown",
      "source": [
        "7.Build a program that determines the largest of three given numbers."
      ],
      "metadata": {
        "id": "bAhnQL2Eb4uo"
      }
    },
    {
      "cell_type": "code",
      "source": [
        "a=int(input())\n",
        "b=int(input())\n",
        "c=int(input())\n",
        "if a>b and a>c:\n",
        "    print(f'{a} is the largest number')\n",
        "elif b>a and b>c:\n",
        "    print(f'{b} is the largest number')\n",
        "else:\n",
        "    print(f'{c} is the largest number')"
      ],
      "metadata": {
        "colab": {
          "base_uri": "https://localhost:8080/"
        },
        "id": "uDlicIu4cL8c",
        "outputId": "067cba22-c3b7-4283-98e8-3100ffd103e2"
      },
      "execution_count": null,
      "outputs": [
        {
          "output_type": "stream",
          "name": "stdout",
          "text": [
            "2\n",
            "5\n",
            "3\n",
            "5 is the largest number\n"
          ]
        }
      ]
    },
    {
      "cell_type": "markdown",
      "source": [
        "8.Develop a program that checks weather a character is a vowel or a consonant."
      ],
      "metadata": {
        "id": "MFMxCAQicoDD"
      }
    },
    {
      "cell_type": "code",
      "source": [
        "char=input()\n",
        "fchar=char.lower()\n",
        "if fchar in \"aeiou\":\n",
        "  print(\"The character is vowel\")\n",
        "else:\n",
        "  print(\"The charcter is consonent\")"
      ],
      "metadata": {
        "colab": {
          "base_uri": "https://localhost:8080/"
        },
        "id": "al9PeKGtc_X4",
        "outputId": "997b393b-8e40-48a3-c3f5-8d9c55de8869"
      },
      "execution_count": null,
      "outputs": [
        {
          "output_type": "stream",
          "name": "stdout",
          "text": [
            "a\n",
            "The character is vowel\n"
          ]
        }
      ]
    },
    {
      "cell_type": "markdown",
      "source": [
        "9.Create a program to calculate the total cost of a shopping cart based on discounts."
      ],
      "metadata": {
        "id": "CZ1ZhGB1dVmM"
      }
    },
    {
      "cell_type": "code",
      "source": [
        "num_items=int(input(\"Enter the number of items purchased in your shopping cart:\"))\n",
        "total_cost=0\n",
        "discounted_price=0\n",
        "if num_items <= 0:\n",
        "  print(\"Invalid input\")\n",
        "else:\n",
        "  for item in range(1,num_items+1):\n",
        "    item_price=float(input(\"Enter the price of item:\"))\n",
        "    total_cost+=item_price\n",
        "\n",
        "if num_items >= 5:\n",
        "  discount_rate=0.05\n",
        "  discounted_price=total_cost-(total_cost*discount_rate)\n",
        "elif num_items >=10:\n",
        "  discount_rate=0.1\n",
        "  discounted_price=total_cost-(total_cost*discount_rate)\n",
        "else:\n",
        "  discounted_price=total_cost\n",
        "\n",
        "print(f\"{num_items} no. of items are purchased\")\n",
        "print(f\"{total_cost} is your total price before discount\")\n",
        "print(f\"{discounted_price} is the final price after discount\")\n",
        "print(\"No discount applied if items purchased less than five\")\n",
        "\n"
      ],
      "metadata": {
        "colab": {
          "base_uri": "https://localhost:8080/"
        },
        "id": "NaiAd_2_fjT3",
        "outputId": "a3118725-4a14-467c-8adf-9108bb1e607e"
      },
      "execution_count": null,
      "outputs": [
        {
          "output_type": "stream",
          "name": "stdout",
          "text": [
            "Enter the number of items purchased in your shopping cart:2\n",
            "Enter the price of item:50\n",
            "Enter the price of item:50\n",
            "2 no. of items are purchased\n",
            "100.0 is your total price before discount\n",
            "100.0 is the final price after discount\n",
            "No discount applied if items purchased less than five\n"
          ]
        }
      ]
    },
    {
      "cell_type": "markdown",
      "source": [
        "10.Write a program that checks if a given number is even or odd."
      ],
      "metadata": {
        "id": "b74jFhnPfkAB"
      }
    },
    {
      "cell_type": "code",
      "source": [
        "num=int(input())\n",
        "if num%2 ==0:\n",
        "  print('the number is even')\n",
        "else:\n",
        "  print('the number is odd')"
      ],
      "metadata": {
        "colab": {
          "base_uri": "https://localhost:8080/"
        },
        "id": "toIXndEZft4t",
        "outputId": "55cd9e10-aa97-43b3-9c7a-e1eb26f9e407"
      },
      "execution_count": null,
      "outputs": [
        {
          "output_type": "stream",
          "name": "stdout",
          "text": [
            "6\n",
            "the number is even\n"
          ]
        }
      ]
    },
    {
      "cell_type": "markdown",
      "source": [
        "**Intermediate Level**\n",
        "\n",
        "---\n",
        "\n"
      ],
      "metadata": {
        "id": "HH69cXpbvjrx"
      }
    },
    {
      "cell_type": "markdown",
      "source": [
        "11.Write a program that calculates the roots of a quadratic equation."
      ],
      "metadata": {
        "id": "CCNWt7G93_qC"
      }
    },
    {
      "cell_type": "code",
      "source": [
        "import math\n",
        "\n",
        "a=float(input(\"Enter the value of coeffiecient 'a': \"))\n",
        "b=float(input(\"Enter the value of coeffiecient 'b': \"))\n",
        "c=float(input(\"Enter the value of coeffiecient 'c': \"))\n",
        "\n",
        "discriminant= b**2-4*a*c\n",
        "\n",
        "if discriminant>0:\n",
        "  root1=(-b+math.sqrt(discriminant))/(2*a)\n",
        "  root2=(-b-math.sqrt(discriminant))/(2*a)\n",
        "  print(f\"The roots re real and distinct:{root1} and {root2}\")\n",
        "elif discriminant == 0:\n",
        "  root1=-b/(2*a)\n",
        "  print(f\"There is one real root(repeated):{root1}\")\n",
        "else:\n",
        "  real_part=-b/(2*a)\n",
        "  imaginary_part=math.sqrt(abs(discriminant))/(2*a)\n",
        "  print(f\"The roots are imaginary:{real_part}+{imaginary_part}i and {real_part}+{imaginary_part}i\")"
      ],
      "metadata": {
        "colab": {
          "base_uri": "https://localhost:8080/"
        },
        "id": "ocVQ-7Cf3_E5",
        "outputId": "ef8990ec-52ff-4f30-f211-68948aa8f5e1"
      },
      "execution_count": null,
      "outputs": [
        {
          "output_type": "stream",
          "name": "stdout",
          "text": [
            "Enter the value of coeffiecient 'a': 2\n",
            "Enter the value of coeffiecient 'b': 3\n",
            "Enter the value of coeffiecient 'c': 4\n",
            "The roots are imaginary:-0.75+1.1989578808281798i and -0.75+1.1989578808281798i\n"
          ]
        }
      ]
    },
    {
      "cell_type": "markdown",
      "source": [
        "12.Create a program that determines the day of the week based on the day number(1-7)."
      ],
      "metadata": {
        "id": "JHKjZcXR1wx3"
      }
    },
    {
      "cell_type": "code",
      "source": [
        "day_of_week=[\"Monday\",\"Tuesday\",\"Wednesday\",\"Thursday\",\"Friday\",\"Saturday\",\"Sunday\"]\n",
        "user_input=int(input(\"Enter the number for the day you want:\"))\n",
        "if 1<=user_input<=7:\n",
        "  week_day=day_of_week[user_input-1]\n",
        "  print(week_day)\n",
        "else:\n",
        "  print(\"Invalid input\")"
      ],
      "metadata": {
        "colab": {
          "base_uri": "https://localhost:8080/"
        },
        "id": "sQsxoUxc183x",
        "outputId": "d65628f5-22bc-46d1-bbef-4b50a8d9cd5b"
      },
      "execution_count": null,
      "outputs": [
        {
          "output_type": "stream",
          "name": "stdout",
          "text": [
            "Enter the number for the day you want:4\n",
            "Thursday\n"
          ]
        }
      ]
    },
    {
      "cell_type": "markdown",
      "source": [
        "13.Develop a program that calculates the factorial of a given number using recursion."
      ],
      "metadata": {
        "id": "34kEDDa72TNr"
      }
    },
    {
      "cell_type": "code",
      "source": [
        "num=int(input(\"Enter the number:\"))\n",
        "if num<0:\n",
        "  print(\"Invalid input,factorial not defined for negative numbers.\")\n",
        "else:\n",
        "  factorial=1\n",
        "  for i in range(1,num+1):\n",
        "    factorial *=i\n",
        "  print(f\"The factorial of {num} is {factorial}\")"
      ],
      "metadata": {
        "colab": {
          "base_uri": "https://localhost:8080/"
        },
        "id": "pmau1Wbf2jdl",
        "outputId": "00ac8f8f-fcac-4b70-af1c-40f9f62c638a"
      },
      "execution_count": null,
      "outputs": [
        {
          "output_type": "stream",
          "name": "stdout",
          "text": [
            "Enter the number:6\n",
            "The factorial of 6 is 720\n"
          ]
        }
      ]
    },
    {
      "cell_type": "markdown",
      "source": [
        "14.Write a program to find the largest among three numbers without using the max() function."
      ],
      "metadata": {
        "id": "HJIDIb9S45hA"
      }
    },
    {
      "cell_type": "code",
      "source": [
        "a=int(input())\n",
        "b=int(input())\n",
        "c=int(input())\n",
        "if a>b and a>c:\n",
        "    print(f'{a} is the largest number')\n",
        "elif b>a and b>c:\n",
        "    print(f'{b} is the largest number')\n",
        "else:\n",
        "    print(f'{c} is the largest number')"
      ],
      "metadata": {
        "colab": {
          "base_uri": "https://localhost:8080/"
        },
        "id": "jvg2-Qvr5SSV",
        "outputId": "f0a96dcd-a826-4b54-eef2-b658bb0431c7"
      },
      "execution_count": null,
      "outputs": [
        {
          "output_type": "stream",
          "name": "stdout",
          "text": [
            "4\n",
            "5\n",
            "6\n",
            "6 is the largest number\n"
          ]
        }
      ]
    },
    {
      "cell_type": "markdown",
      "source": [
        "15.Create a program simulates a basic ATM transaction menu."
      ],
      "metadata": {
        "id": "dQtWa3si5q8d"
      }
    },
    {
      "cell_type": "code",
      "source": [
        "account_balance=1000\n",
        "print(f\"your account balance is ${account_balance:.2f}\")\n",
        "print(\"Atm Menu\")\n",
        "print(\"1.deposit money\")\n",
        "print(\"2.Withdraw money\")\n",
        "print(\"3.Balance Enquiry\")\n",
        "print(\"4.Exit\")\n",
        "choice=input(\"Enter your choice (1/2/3/4)\")\n",
        "if choice == '1':\n",
        "  deposit_amount =float(input(\"Enter the amount to be deposited\"))\n",
        "  account_balance +=deposit_amount\n",
        "  print(f\"${deposit_amount:.2f} amount is deposited in your account\")\n",
        "elif choice == '2':\n",
        "  withdraw_amount =float(input(\"Enter the amount to withdraw\"))\n",
        "  if withdraw_amount <= account_balance:\n",
        "    account_balance -=withdraw_amount\n",
        "    print(f\"${withdraw_amount:.2f} amount has been withdraw from your account\")\n",
        "  else:\n",
        "    print(\"Insufficient fund\")\n",
        "elif choice == '3':\n",
        "  print(f\"${account_balance:.2f} is the present amount in your savings account\")\n",
        "elif choice == '4':\n",
        "  print(\"Thank you for using the ATM.Good Bye!\")\n",
        "else:\n",
        "  print(\"Invalid Entry\")\n"
      ],
      "metadata": {
        "colab": {
          "base_uri": "https://localhost:8080/"
        },
        "id": "OcK6I-rE6cSK",
        "outputId": "13fd4f20-1a04-42ae-a114-8d2a9286af08"
      },
      "execution_count": null,
      "outputs": [
        {
          "output_type": "stream",
          "name": "stdout",
          "text": [
            "your account balance is $1000.00\n",
            "Atm Menu\n",
            "1.deposit money\n",
            "2.Withdraw money\n",
            "3.Balance Enquiry\n",
            "4.Exit\n",
            "Enter your choice (1/2/3/4)3\n",
            "$1000.00 is the present amount in your savings account\n"
          ]
        }
      ]
    },
    {
      "cell_type": "code",
      "source": [
        "account_balance = 1000\n",
        "\n",
        "print(f\"Your account balance is ${account_balance:.2f}\")\n",
        "\n",
        "print(\"ATM Menu\")\n",
        "print(\"1. Deposit Money\")\n",
        "print(\"2. Withdraw Money\")\n",
        "print(\"3. Balance Enquiry\")\n",
        "print(\"4. Exit\")\n",
        "\n",
        "choice = input(\"Enter your choice (1/2/3/4): \")\n",
        "\n",
        "if choice == '1':\n",
        "    deposit_amount = float(input(\"Enter the amount to be deposited: $\"))\n",
        "    account_balance += deposit_amount\n",
        "    print(f\"${deposit_amount:.2f} has been deposited in your account.\")\n",
        "    print(f\"Your updated account balance is ${account_balance:.2f}\")  # Display the updated balance\n",
        "elif choice == '2':\n",
        "    withdraw_amount = float(input(\"Enter the amount to withdraw: $\"))\n",
        "    if withdraw_amount <= account_balance:\n",
        "        account_balance -= withdraw_amount\n",
        "        print(f\"${withdraw_amount:.2f} has been withdrawn from your account.\")\n",
        "    else:\n",
        "        print(\"Insufficient funds.\")\n",
        "elif choice == '3':\n",
        "    print(f\"Your current account balance is ${account_balance:.2f}\")\n",
        "elif choice == '4':\n",
        "    print(\"Thank you for using the ATM. Goodbye!\")\n",
        "else:\n",
        "    print(\"Invalid Entry\")\n",
        "#With this change, it will display the updated account balance after each deposit operation.\n",
        "\n",
        "\n",
        "\n",
        "\n",
        "\n"
      ],
      "metadata": {
        "colab": {
          "base_uri": "https://localhost:8080/"
        },
        "id": "_T7h4wVSBQE1",
        "outputId": "472c74a8-851e-439b-8e28-94a6462ad9c8"
      },
      "execution_count": null,
      "outputs": [
        {
          "output_type": "stream",
          "name": "stdout",
          "text": [
            "Your account balance is $1000.00\n",
            "ATM Menu\n",
            "1. Deposit Money\n",
            "2. Withdraw Money\n",
            "3. Balance Enquiry\n",
            "4. Exit\n",
            "Enter your choice (1/2/3/4): 3\n",
            "Your current account balance is $1000.00\n"
          ]
        }
      ]
    },
    {
      "cell_type": "code",
      "source": [
        "account_balance = 1000\n",
        "\n",
        "# Function to display account balance\n",
        "def display_balance():\n",
        "    print(f\"Your account balance is ${account_balance:.2f}\")\n",
        "\n",
        "# Function to deposit money\n",
        "def deposit():\n",
        "    global account_balance\n",
        "    amount = float(input(\"Enter the amount to deposit: $\"))\n",
        "    if amount > 0:\n",
        "        account_balance += amount\n",
        "        print(f\"${amount:.2f} has been deposited into your account.\")\n",
        "    else:\n",
        "        print(\"Invalid amount. Please enter a positive amount.\")\n",
        "\n",
        "# Function to withdraw money\n",
        "def withdraw():\n",
        "    global account_balance\n",
        "    amount = float(input(\"Enter the amount to withdraw: $\"))\n",
        "    if amount > 0 and amount <= account_balance:\n",
        "        account_balance -= amount\n",
        "        print(f\"${amount:.2f} has been withdrawn from your account.\")\n",
        "    elif amount <= 0:\n",
        "        print(\"Invalid amount. Please enter a positive amount.\")\n",
        "    else:\n",
        "        print(\"Insufficient funds. Your account balance is not enough for this withdrawal.\")\n",
        "\n",
        "# Main menu\n",
        "while True:\n",
        "    print(\"\\nATM Menu:\")\n",
        "    print(\"1. Display Balance\")\n",
        "    print(\"2. Deposit Money\")\n",
        "    print(\"3. Withdraw Money\")\n",
        "    print(\"4. Exit\")\n",
        "\n",
        "    choice = input(\"Enter your choice (1/2/3/4): \")\n",
        "\n",
        "    if choice == '1':\n",
        "        display_balance()\n",
        "    elif choice == '2':\n",
        "        deposit()\n",
        "    elif choice == '3':\n",
        "        withdraw()\n",
        "    elif choice == '4':\n",
        "        print(\"Thank you for using the ATM. Goodbye!\")\n",
        "        break\n",
        "    else:\n",
        "        print(\"Invalid choice. Please select a valid option.\")"
      ],
      "metadata": {
        "colab": {
          "base_uri": "https://localhost:8080/"
        },
        "id": "3rYUmr7vByPH",
        "outputId": "750b186e-e13f-4cd6-fd8a-9427958e89bd"
      },
      "execution_count": null,
      "outputs": [
        {
          "output_type": "stream",
          "name": "stdout",
          "text": [
            "\n",
            "ATM Menu:\n",
            "1. Display Balance\n",
            "2. Deposit Money\n",
            "3. Withdraw Money\n",
            "4. Exit\n",
            "Enter your choice (1/2/3/4): 2\n",
            "Enter the amount to deposit: $500\n",
            "$500.00 has been deposited into your account.\n",
            "\n",
            "ATM Menu:\n",
            "1. Display Balance\n",
            "2. Deposit Money\n",
            "3. Withdraw Money\n",
            "4. Exit\n",
            "Enter your choice (1/2/3/4): 1\n",
            "Your account balance is $1500.00\n",
            "\n",
            "ATM Menu:\n",
            "1. Display Balance\n",
            "2. Deposit Money\n",
            "3. Withdraw Money\n",
            "4. Exit\n",
            "Enter your choice (1/2/3/4): 1\n",
            "Your account balance is $1500.00\n",
            "\n",
            "ATM Menu:\n",
            "1. Display Balance\n",
            "2. Deposit Money\n",
            "3. Withdraw Money\n",
            "4. Exit\n",
            "Enter your choice (1/2/3/4): 3\n",
            "Enter the amount to withdraw: $400\n",
            "$400.00 has been withdrawn from your account.\n",
            "\n",
            "ATM Menu:\n",
            "1. Display Balance\n",
            "2. Deposit Money\n",
            "3. Withdraw Money\n",
            "4. Exit\n",
            "Enter your choice (1/2/3/4): 1\n",
            "Your account balance is $1100.00\n",
            "\n",
            "ATM Menu:\n",
            "1. Display Balance\n",
            "2. Deposit Money\n",
            "3. Withdraw Money\n",
            "4. Exit\n",
            "Enter your choice (1/2/3/4): 4\n",
            "Thank you for using the ATM. Goodbye!\n"
          ]
        }
      ]
    },
    {
      "cell_type": "markdown",
      "source": [
        "16.Build a program that checks if a given string is a palindrome or not."
      ],
      "metadata": {
        "id": "W_sNro6bbLnA"
      }
    },
    {
      "cell_type": "code",
      "source": [
        "my_string=str(input())\n",
        "if my_string == my_string[::-1]:\n",
        "  print(\"This is a palindrome\")\n",
        "else:\n",
        "  print(\"This is not a palindrome\")"
      ],
      "metadata": {
        "colab": {
          "base_uri": "https://localhost:8080/"
        },
        "id": "FdWeELUQEQMS",
        "outputId": "4018be06-6d4f-4a1e-a337-8cdd179a5730"
      },
      "execution_count": null,
      "outputs": [
        {
          "output_type": "stream",
          "name": "stdout",
          "text": [
            "madam\n",
            "This is a palindrome\n"
          ]
        }
      ]
    },
    {
      "cell_type": "markdown",
      "source": [
        "17.Write a program that calculates the average of a list of numbers,excluding the smallest and largest values."
      ],
      "metadata": {
        "id": "5-xLwXpFb7ZI"
      }
    },
    {
      "cell_type": "code",
      "source": [
        "my_list=[1,2,3,4,5,6,7,8]\n",
        "my_list.remove(min(my_list))\n",
        "my_list.remove(max(my_list))\n",
        "print(my_list)\n",
        "average=sum(my_list)/len(my_list)\n",
        "print(f\"The average of the list is {average} excluding the smallest and largest. \")"
      ],
      "metadata": {
        "colab": {
          "base_uri": "https://localhost:8080/"
        },
        "id": "jRw3adG6FQQg",
        "outputId": "f8a4342b-4272-49ec-9548-f6c5119b1432"
      },
      "execution_count": null,
      "outputs": [
        {
          "output_type": "stream",
          "name": "stdout",
          "text": [
            "[2, 3, 4, 5, 6, 7]\n",
            "The average of the list is 4.5 excluding the smallest and largest. \n"
          ]
        }
      ]
    },
    {
      "cell_type": "markdown",
      "source": [
        "18.Develop a program that converts a given temperature from Celcius to Fahrenheit."
      ],
      "metadata": {
        "id": "S6rwHkP_chHB"
      }
    },
    {
      "cell_type": "code",
      "source": [
        "temp_in_celcius=float(input(\"Enter the temp in celcius:\"))\n",
        "temp_in_fahrenheit=(temp_in_celcius*9)/5+32\n",
        "print(f\"The temp {temp_in_celcius} degree is actually {temp_in_fahrenheit} fahrenheit\")"
      ],
      "metadata": {
        "id": "nMd6kB8Jeq4c",
        "colab": {
          "base_uri": "https://localhost:8080/"
        },
        "outputId": "07f0587d-c6f8-4451-95bf-4e0685c098ad"
      },
      "execution_count": null,
      "outputs": [
        {
          "output_type": "stream",
          "name": "stdout",
          "text": [
            "Enter the temp in celcius:35\n",
            "The temp 35.0 degree is actually 95.0 fahrenheit\n"
          ]
        }
      ]
    },
    {
      "cell_type": "markdown",
      "source": [
        "19.Create a program that simulates a basic calculator for addition,subtraction,multiplication and division."
      ],
      "metadata": {
        "id": "JeDCtzHKdKLP"
      }
    },
    {
      "cell_type": "code",
      "source": [
        "def add(x,y):\n",
        "  return(x+y)\n",
        "\n",
        "def subtract(x,y):\n",
        "  return(x-y)\n",
        "\n",
        "def multi(x,y):\n",
        "  return(x*y)\n",
        "\n",
        "def div(x,y):\n",
        "  if y == 0:\n",
        "    return \"cannot divide by zero\"\n",
        "  return x/y\n",
        "\n",
        "print('Select operation:')\n",
        "print('1.addition')\n",
        "print('2.subtraction')\n",
        "print('3.multipliction')\n",
        "print('4.division')\n",
        "\n",
        "num1=int(input('enter num1:'))\n",
        "num2=int(input('enter num2:'))\n",
        "choice=int(input('enter among 1/2/3/4:'))\n",
        "\n",
        "if choice == 1:\n",
        "  result=add(num1,num2)\n",
        "  print(result)\n",
        "elif choice == 2:\n",
        "  result= subtract(num1,num2)\n",
        "  print(result)\n",
        "elif choice == 3:\n",
        "  result= multi(num1,num2)\n",
        "  print(result)\n",
        "elif choice == 4:\n",
        "  result= div(num1,num2)\n",
        "  print(result)\n",
        "else:\n",
        "  print(\"invalid input\")\n",
        "\n"
      ],
      "metadata": {
        "colab": {
          "base_uri": "https://localhost:8080/"
        },
        "id": "or4mkiBRwGlK",
        "outputId": "e4dd4177-b1b1-4937-998e-101e30c99abd"
      },
      "execution_count": null,
      "outputs": [
        {
          "output_type": "stream",
          "name": "stdout",
          "text": [
            "Select operation:\n",
            "1.addition\n",
            "2.subtraction\n",
            "3.multipliction\n",
            "4.division\n",
            "enter num1:5\n",
            "enter num2:10\n",
            "enter among 1/2/3/4:1\n",
            "15\n"
          ]
        }
      ]
    },
    {
      "cell_type": "markdown",
      "source": [
        "20.Write a program that determines the roots of a cubic equation using the Cardano formula."
      ],
      "metadata": {
        "id": "G-PPRIa_di--"
      }
    },
    {
      "cell_type": "code",
      "source": [
        "def solve(a,b,c,d):\n",
        "    Q = (3*a*c - (b**2)) / (9*(a**2))\n",
        "    R = (9*a*b*c - 27*(a**2)*d - 2*(b**3)) / (54*(a**3))\n",
        "    D = (Q**3) + (R**2)\n",
        "    S = (R + (D**(1/2)))**(1/3)\n",
        "    T = (R - (D**(1/2)))**(1/3)\n",
        "\n",
        "    x1 = S + T - (b/(3*a))\n",
        "    x2 = -((S + T)/2) - (b/(3*a)) + 0.5j * (3**(1/2)) * (S - T)\n",
        "    x3 = -((S + T)/2) - (b/(3*a)) - 0.5j * (3**(1/2)) * (S - T)\n",
        "\n",
        "    return (x1,x2,x3)"
      ],
      "metadata": {
        "id": "1so3JagbNYVB"
      },
      "execution_count": null,
      "outputs": []
    },
    {
      "cell_type": "markdown",
      "source": [
        "**Advanced Level**\n",
        "\n",
        "---\n",
        "\n"
      ],
      "metadata": {
        "id": "u8yjdwT-d_gE"
      }
    },
    {
      "cell_type": "markdown",
      "source": [
        "21.Create a program that calculates the income tax based on the user's income and tax brackets."
      ],
      "metadata": {
        "id": "QikxTj0DeEXs"
      }
    },
    {
      "cell_type": "code",
      "source": [
        "def tax_calculation(income):\n",
        "  tax_brackets=[(0,10000),(10001,40000),(40001,80000),(80000,float('inf'))]\n",
        "  tax_rates=[0.1,0.2,0.3,0.4]\n",
        "\n",
        "  tax = 0\n",
        "  for i,(min_income,max_income) in enumerate(tax_brackets):\n",
        "      if income <= min_income:\n",
        "        break\n",
        "      elif income <= max_income:\n",
        "        tax += (income - min_income) * tax_rates[i]\n",
        "        break\n",
        "      else:\n",
        "        tax += (max_income -income) * tax_rates[i]\n",
        "\n",
        "  return tax\n",
        "\n",
        "income = float(input(\"Enter your income:\"))\n",
        "income_tax=tax_calculation(income)\n",
        "print(f\"Your income tax is: ${income_tax:.2f}\")"
      ],
      "metadata": {
        "colab": {
          "base_uri": "https://localhost:8080/"
        },
        "id": "uilnAMd_iyae",
        "outputId": "4079d214-6684-47f7-eb4b-e4464a2101a8"
      },
      "execution_count": null,
      "outputs": [
        {
          "output_type": "stream",
          "name": "stdout",
          "text": [
            "Enter your income:50000\n",
            "Your income tax is: $-3000.30\n"
          ]
        }
      ]
    },
    {
      "cell_type": "code",
      "source": [
        "def calculate_income_tax(income):\n",
        "    # Define tax brackets and their corresponding tax rates\n",
        "    tax_brackets = [(0, 10000), (10001, 40000), (40001, 80000), (80001, float('inf'))]\n",
        "    tax_rates = [0.1, 0.2, 0.3, 0.4]\n",
        "\n",
        "    # Calculate income tax\n",
        "    tax = 0\n",
        "    for i, (min_income, max_income) in enumerate(tax_brackets):\n",
        "        if income <= min_income:\n",
        "            break\n",
        "        elif income <= max_income:\n",
        "            tax += (income - min_income) * tax_rates[i]\n",
        "            break\n",
        "        else:\n",
        "            tax += (max_income - min_income) * tax_rates[i]\n",
        "\n",
        "    return tax\n",
        "\n",
        "# Get user input for income\n",
        "income = float(input(\"Enter your income: \"))\n",
        "\n",
        "# Calculate and display income tax\n",
        "income_tax = calculate_income_tax(income)\n",
        "print(f\"Your income tax is: ${income_tax:.2f}\")"
      ],
      "metadata": {
        "colab": {
          "base_uri": "https://localhost:8080/"
        },
        "id": "OPYDXQKApzlW",
        "outputId": "36e8ca65-dd0b-4436-9b6c-4e7d50343922"
      },
      "execution_count": null,
      "outputs": [
        {
          "output_type": "stream",
          "name": "stdout",
          "text": [
            "Enter your income: 50000\n",
            "Your income tax is: $9999.50\n"
          ]
        }
      ]
    },
    {
      "cell_type": "code",
      "source": [
        "def tax_calculation(income):\n",
        "  tax_brackets=[(0,10000),(10001,40000),(40001,80000),(80000,float('inf'))]\n",
        "  tax_rates=[0.1,0.2,0.3,0.4]\n",
        "\n",
        "  tax = 0\n",
        "  for i,(min_income,max_income) in enumerate(tax_brackets):\n",
        "      if income <= min_income:\n",
        "        break\n",
        "      elif income <= max_income:\n",
        "        tax += (income - min_income) * tax_rates[i]\n",
        "        break\n",
        "      else:\n",
        "        tax += (max_income - min_income) * tax_rates[i]\n",
        "\n",
        "  return tax\n",
        "\n",
        "income = float(input(\"Enter your income:\"))\n",
        "income_tax=tax_calculation(income)\n",
        "\n",
        "print(income_tax)"
      ],
      "metadata": {
        "colab": {
          "base_uri": "https://localhost:8080/"
        },
        "id": "qLhDvQGIl-Nh",
        "outputId": "82393970-ef6b-4741-b878-a807806d7240"
      },
      "execution_count": null,
      "outputs": [
        {
          "output_type": "stream",
          "name": "stdout",
          "text": [
            "Enter your income:50000\n",
            "9999.5\n"
          ]
        }
      ]
    },
    {
      "cell_type": "markdown",
      "source": [
        "22.Write a program that simulates the rock-paper-scissors game against the computer."
      ],
      "metadata": {
        "id": "HMiJmbl7eWLu"
      }
    },
    {
      "cell_type": "markdown",
      "source": [
        "23.Develop a program that generates a random password based on user preferences(length,complexity)."
      ],
      "metadata": {
        "id": "I0o8jZZbf7yx"
      }
    },
    {
      "cell_type": "markdown",
      "source": [
        "24.Create a program that implements a simple text-based adventure game with branching scenarios."
      ],
      "metadata": {
        "id": "g8mudv5ehV1Z"
      }
    },
    {
      "cell_type": "markdown",
      "source": [
        "25.Build a program that solves a linear equation for x,considering different cases."
      ],
      "metadata": {
        "id": "LPXrCBOqigoO"
      }
    },
    {
      "cell_type": "markdown",
      "source": [
        "26.Write a program that simulates a basic quiz game with multiple choice questions and scoring."
      ],
      "metadata": {
        "id": "CMFC_6NyisnY"
      }
    },
    {
      "cell_type": "markdown",
      "source": [
        "27.Develop a program that detremines wheather a given year is a prime number or not."
      ],
      "metadata": {
        "id": "wR-5pwoqjcFP"
      }
    },
    {
      "cell_type": "markdown",
      "source": [
        "28.Create a program that sorts three numbers in ascending order using conditional statements."
      ],
      "metadata": {
        "id": "iTQ8m-kjj2qd"
      }
    },
    {
      "cell_type": "markdown",
      "source": [
        "29.Build a program that determines thr roots of a quartic equation using numerical methods."
      ],
      "metadata": {
        "id": "6ITOiqXik5aa"
      }
    },
    {
      "cell_type": "markdown",
      "source": [
        "30.Write a program that calculates the BMI and provides health recommendations based on the user's input."
      ],
      "metadata": {
        "id": "w1766Xn_lRbb"
      }
    },
    {
      "cell_type": "markdown",
      "source": [
        "**Challenge level**\n",
        "\n",
        "---\n",
        "\n"
      ],
      "metadata": {
        "id": "zOOaQnbYmW3H"
      }
    },
    {
      "cell_type": "markdown",
      "source": [
        "31.Create a program that validates a password based on complexity rules(length,characters,etc.)"
      ],
      "metadata": {
        "id": "egZq5E2AmgYh"
      }
    },
    {
      "cell_type": "markdown",
      "source": [
        "32.Develop a program that performs matrix addition and subtraction based on user input."
      ],
      "metadata": {
        "id": "ianKkl1Nm1Sm"
      }
    },
    {
      "cell_type": "markdown",
      "source": [
        "33.Write a program that calculates the greatest common divisor (GCD) of two numbers using the Euclidean algorithm."
      ],
      "metadata": {
        "id": "dJ2rnTf-nMkJ"
      }
    },
    {
      "cell_type": "markdown",
      "source": [
        "34.Build a program that performs matrix multiplication using nested loops and conditional statements."
      ],
      "metadata": {
        "id": "FZ4re1Ufn4jO"
      }
    },
    {
      "cell_type": "markdown",
      "source": [
        "35.Create a program that simulates a basic text-based tic-tac-toe game against the computer."
      ],
      "metadata": {
        "id": "06bQk7j5okh7"
      }
    },
    {
      "cell_type": "markdown",
      "source": [
        "36.Write a program that generates Fibonacci numbers up to specified term using iterative methods."
      ],
      "metadata": {
        "id": "eWnUC-3Qp5Sj"
      }
    },
    {
      "cell_type": "markdown",
      "source": [
        "37.Develop a program that calculates the nth term of the Fibonacci sequence using memoization."
      ],
      "metadata": {
        "id": "PWm88vY6qp3F"
      }
    },
    {
      "cell_type": "markdown",
      "source": [
        "38.Create a program that generates a calendar for a given month and year using conditional statements."
      ],
      "metadata": {
        "id": "ovR6AzkyrrZp"
      }
    },
    {
      "cell_type": "markdown",
      "source": [
        "39.Build a program that simulates a basic text-based blackjack game against the computer."
      ],
      "metadata": {
        "id": "kDUN3kEVsQFv"
      }
    },
    {
      "cell_type": "markdown",
      "source": [
        "40.Write a program that generates the prime factors of a given number using trial division."
      ],
      "metadata": {
        "id": "G2-IxU2Nsc7c"
      }
    },
    {
      "cell_type": "code",
      "source": [],
      "metadata": {
        "id": "LbdtKirLsxhP"
      },
      "execution_count": null,
      "outputs": []
    }
  ]
}